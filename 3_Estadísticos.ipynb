{
 "cells": [
  {
   "cell_type": "markdown",
   "metadata": {},
   "source": [
    "Estadísticas.\n",
    "En este apartado haremos un estudio demográfico del cliente. Em commún y mas tarde en relación a los clientes del test."
   ]
  },
  {
   "cell_type": "markdown",
   "metadata": {},
   "source": [
    "Análisis del comportamiento del cliente\n",
    "\n",
    "Análisis del comportamiento del cliente\n",
    "Responda las siguientes preguntas sobre demografía:\n",
    "\n",
    "¿Quiénes son los principales clientes que utilizan este proceso en línea?\n",
    "¿Los clientes principales son más jóvenes o mayores, nuevos o antiguos?\n",
    "A continuación, realice un análisis del comportamiento del cliente para responder cualquier pregunta adicional relevante que considere importante"
   ]
  },
  {
   "cell_type": "code",
   "execution_count": 1,
   "metadata": {},
   "outputs": [],
   "source": [
    "import pandas as pd\n",
    "import numpy as np\n",
    "import matplotlib.pyplot as plt\n",
    "import seaborn as sns\n",
    "import os\n"
   ]
  },
  {
   "cell_type": "code",
   "execution_count": 23,
   "metadata": {},
   "outputs": [],
   "source": [
    "df = pd.read_csv('DATOS LIMPIOS/DATOS_LIMPIOS.txt')"
   ]
  },
  {
   "cell_type": "code",
   "execution_count": 34,
   "metadata": {},
   "outputs": [
    {
     "name": "stdout",
     "output_type": "stream",
     "text": [
      "Media de la edad: 46.52539736651468\n",
      "Mediana de la edad: 47.0\n"
     ]
    }
   ],
   "source": [
    "# Edad de los clientes en la base de datos\n",
    "print('Media de la edad:', df['clnt_age'].mean())\n",
    "print('Mediana de la edad:', df['clnt_age'].median())\n"
   ]
  },
  {
   "cell_type": "code",
   "execution_count": 31,
   "metadata": {},
   "outputs": [
    {
     "name": "stdout",
     "output_type": "stream",
     "text": [
      "Media de la antigüedad en años: 12.563889954214666\n",
      "Mediana de la antigüedad en años: 11.333333333333334\n"
     ]
    }
   ],
   "source": [
    "# Visualización de la media de antigüedad en meses\n",
    "df['clnt_tenure_mnth'].mean()\n",
    "df['clnt_tenure_mnth'].median()\n",
    "\n",
    "# divide el resultado entre 12, para obtener la antigüedad en años\n",
    "df['clnt_tenure_mnth'].mean()/12\n",
    "df['clnt_tenure_mnth'].median()/12\n",
    "\n",
    "print('Media de la antigüedad en años:', df['clnt_tenure_mnth'].mean()/12)\n",
    "print('Mediana de la antigüedad en años:', df['clnt_tenure_mnth'].median()/12)\n"
   ]
  },
  {
   "cell_type": "code",
   "execution_count": 35,
   "metadata": {},
   "outputs": [
    {
     "data": {
      "text/plain": [
       "gendr\n",
       "U    34.089004\n",
       "M    33.650090\n",
       "F    32.260905\n",
       "Name: proportion, dtype: float64"
      ]
     },
     "execution_count": 35,
     "metadata": {},
     "output_type": "execute_result"
    }
   ],
   "source": [
    "# Recuento de género\n",
    "df['gendr'].value_counts(normalize=True)*100\n"
   ]
  },
  {
   "cell_type": "code",
   "execution_count": 38,
   "metadata": {},
   "outputs": [],
   "source": [
    "# Borraremos lo outliers de la columna bal\n",
    "df = df[df['bal'] < 1.000000e+06]"
   ]
  },
  {
   "cell_type": "code",
   "execution_count": 39,
   "metadata": {},
   "outputs": [
    {
     "name": "stdout",
     "output_type": "stream",
     "text": [
      "La media del balance es:  119140.07213931787\n",
      "La mediana del balance es:  62198.55\n"
     ]
    }
   ],
   "source": [
    "# Ahora respecto al balance\n",
    "df['bal'].mean()\n",
    "df['bal'].median()\n",
    "\n",
    "print(\"La media del balance es: \", df['bal'].mean())\n",
    "print(\"La mediana del balance es: \", df['bal'].median())"
   ]
  },
  {
   "cell_type": "code",
   "execution_count": null,
   "metadata": {},
   "outputs": [],
   "source": []
  }
 ],
 "metadata": {
  "kernelspec": {
   "display_name": "Python 3",
   "language": "python",
   "name": "python3"
  },
  "language_info": {
   "codemirror_mode": {
    "name": "ipython",
    "version": 3
   },
   "file_extension": ".py",
   "mimetype": "text/x-python",
   "name": "python",
   "nbconvert_exporter": "python",
   "pygments_lexer": "ipython3",
   "version": "3.11.9"
  }
 },
 "nbformat": 4,
 "nbformat_minor": 2
}
