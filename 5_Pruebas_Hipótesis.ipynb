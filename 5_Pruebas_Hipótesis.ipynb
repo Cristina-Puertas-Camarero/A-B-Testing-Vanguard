{
 "cells": [
  {
   "cell_type": "markdown",
   "metadata": {},
   "source": [
    "# Pruebas de Hipótesis\n",
    "\n",
    "## Tasa de finalización\n",
    "\n",
    "Teniendo en cuenta los datos y los indicadores clave de rendimiento que ha analizado, una hipótesis interesante para probar está relacionada con la tasa de finalización entre los grupos de prueba y de control. Dado que el nuevo diseño (grupo de prueba) tuvo una tasa de finalización más alta en comparación con el diseño anterior (grupo de control), debe confirmar si esta diferencia es estadísticamente significativa"
   ]
  },
  {
   "cell_type": "code",
   "execution_count": 2,
   "metadata": {},
   "outputs": [],
   "source": [
    "# Importación de librerias\n",
    "import pandas as pd\n",
    "import numpy as np\n",
    "import matplotlib.pyplot as plt\n",
    "import seaborn as sns"
   ]
  },
  {
   "cell_type": "code",
   "execution_count": 3,
   "metadata": {},
   "outputs": [
    {
     "name": "stderr",
     "output_type": "stream",
     "text": [
      "C:\\Users\\Propietario\\AppData\\Local\\Temp\\ipykernel_16828\\894733417.py:1: DtypeWarning: Columns (6) have mixed types. Specify dtype option on import or set low_memory=False.\n",
      "  df = pd.read_csv('DATOS LIMPIOS/DATOS_LIMPIOS_UNIDOS.txt')\n"
     ]
    }
   ],
   "source": [
    "df = pd.read_csv('DATOS LIMPIOS/DATOS_LIMPIOS_UNIDOS.txt')"
   ]
  },
  {
   "cell_type": "code",
   "execution_count": null,
   "metadata": {},
   "outputs": [],
   "source": [
    "# H0: Hay una diferencia significativa en la tasa de finalización entre los grupos de prueba y control\n",
    "# H1: No hay una diferencia significativa en la tasa de finalización entre los grupos de prueba y control"
   ]
  },
  {
   "cell_type": "code",
   "execution_count": 6,
   "metadata": {},
   "outputs": [
    {
     "name": "stdout",
     "output_type": "stream",
     "text": [
      "Estadístico de prueba: 3.273476546087092\n",
      "Valor p: 0.0010624752233088246\n",
      "Rechazamos la hipótesis nula: Hay una diferencia significativa en la tasa de finalización entre los grupos de prueba y control\n"
     ]
    }
   ],
   "source": [
    "from scipy.stats import ttest_ind\n",
    "\n",
    "# Realizar la prueba t\n",
    "stat, pval = ttest_ind(grupo_prueba['time_diff_seconds'], grupo_control['time_diff_seconds'])\n",
    "\n",
    "# Mostrar los resultados\n",
    "print(f'Estadístico de prueba: {stat}')\n",
    "print(f'Valor p: {pval}')\n",
    "\n",
    "# Interpretación del resultado\n",
    "alpha = 0.05\n",
    "if pval < alpha:\n",
    "    print(\"Rechazamos la hipótesis nula: Hay una diferencia significativa en la tasa de finalización entre los grupos de prueba y control\")\n",
    "else:\n",
    "    print(\"No podemos rechazar la hipótesis nula: No hay una diferencia significativa en la tasa de finalización entre los grupos de prueba y control\")"
   ]
  }
 ],
 "metadata": {
  "kernelspec": {
   "display_name": "Python 3",
   "language": "python",
   "name": "python3"
  },
  "language_info": {
   "codemirror_mode": {
    "name": "ipython",
    "version": 3
   },
   "file_extension": ".py",
   "mimetype": "text/x-python",
   "name": "python",
   "nbconvert_exporter": "python",
   "pygments_lexer": "ipython3",
   "version": "3.11.9"
  }
 },
 "nbformat": 4,
 "nbformat_minor": 2
}
