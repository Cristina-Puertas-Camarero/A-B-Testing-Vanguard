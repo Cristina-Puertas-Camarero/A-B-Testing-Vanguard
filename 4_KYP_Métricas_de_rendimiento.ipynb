{
 "cells": [
  {
   "cell_type": "markdown",
   "metadata": {},
   "source": [
    "# Métricas de rendimiento\n",
    "\n",
    "## Indicadores de éxito"
   ]
  },
  {
   "cell_type": "code",
   "execution_count": 1,
   "metadata": {},
   "outputs": [],
   "source": [
    "import pandas as pd\n",
    "import numpy as np\n",
    "import matplotlib.pyplot as plt\n",
    "import seaborn as sns"
   ]
  },
  {
   "cell_type": "code",
   "execution_count": 2,
   "metadata": {},
   "outputs": [],
   "source": [
    "# Para contestar las preguntas necesitamos unir los dos dataframes\n",
    "# Para ello, primero cargamos los dos dataframes\n",
    "df = pd.read_csv('DATOS LIMPIOS/DATOS_LIMPIOS.txt')\n",
    "df2 = pd.read_csv('DATOS LIMPIOS/proces_step_vist_id_data_time.txt')"
   ]
  },
  {
   "cell_type": "code",
   "execution_count": 4,
   "metadata": {},
   "outputs": [],
   "source": [
    "# Unimos los dos dataframes\n",
    "df = pd.merge(df, df2, on='client_id', how='inner')"
   ]
  },
  {
   "cell_type": "code",
   "execution_count": 6,
   "metadata": {},
   "outputs": [
    {
     "data": {
      "text/html": [
       "<div>\n",
       "<style scoped>\n",
       "    .dataframe tbody tr th:only-of-type {\n",
       "        vertical-align: middle;\n",
       "    }\n",
       "\n",
       "    .dataframe tbody tr th {\n",
       "        vertical-align: top;\n",
       "    }\n",
       "\n",
       "    .dataframe thead th {\n",
       "        text-align: right;\n",
       "    }\n",
       "</style>\n",
       "<table border=\"1\" class=\"dataframe\">\n",
       "  <thead>\n",
       "    <tr style=\"text-align: right;\">\n",
       "      <th></th>\n",
       "      <th>client_id</th>\n",
       "      <th>clnt_tenure_mnth</th>\n",
       "      <th>clnt_age</th>\n",
       "      <th>gendr</th>\n",
       "      <th>num_accts</th>\n",
       "      <th>bal</th>\n",
       "      <th>Variation</th>\n",
       "      <th>visitor_id</th>\n",
       "      <th>visit_id</th>\n",
       "      <th>process_step</th>\n",
       "      <th>date_time</th>\n",
       "      <th>time_diff</th>\n",
       "      <th>date</th>\n",
       "      <th>time_in_minutes</th>\n",
       "      <th>time_diff_seconds</th>\n",
       "    </tr>\n",
       "  </thead>\n",
       "  <tbody>\n",
       "    <tr>\n",
       "      <th>0</th>\n",
       "      <td>836976</td>\n",
       "      <td>73.0</td>\n",
       "      <td>60.5</td>\n",
       "      <td>U</td>\n",
       "      <td>2.0</td>\n",
       "      <td>45105.3</td>\n",
       "      <td>Test</td>\n",
       "      <td>427070339_1413275162</td>\n",
       "      <td>104438405_2368283624_817211</td>\n",
       "      <td>start</td>\n",
       "      <td>2017-03-29 10:59:43</td>\n",
       "      <td>0 days 00:01:08</td>\n",
       "      <td>2017-03-29</td>\n",
       "      <td>659</td>\n",
       "      <td>68.0</td>\n",
       "    </tr>\n",
       "    <tr>\n",
       "      <th>1</th>\n",
       "      <td>836976</td>\n",
       "      <td>73.0</td>\n",
       "      <td>60.5</td>\n",
       "      <td>U</td>\n",
       "      <td>2.0</td>\n",
       "      <td>45105.3</td>\n",
       "      <td>Test</td>\n",
       "      <td>427070339_1413275162</td>\n",
       "      <td>104438405_2368283624_817211</td>\n",
       "      <td>start</td>\n",
       "      <td>2017-03-29 11:01:40</td>\n",
       "      <td>0 days 00:01:57</td>\n",
       "      <td>2017-03-29</td>\n",
       "      <td>661</td>\n",
       "      <td>117.0</td>\n",
       "    </tr>\n",
       "    <tr>\n",
       "      <th>2</th>\n",
       "      <td>836976</td>\n",
       "      <td>73.0</td>\n",
       "      <td>60.5</td>\n",
       "      <td>U</td>\n",
       "      <td>2.0</td>\n",
       "      <td>45105.3</td>\n",
       "      <td>Test</td>\n",
       "      <td>427070339_1413275162</td>\n",
       "      <td>104438405_2368283624_817211</td>\n",
       "      <td>start</td>\n",
       "      <td>2017-03-29 11:02:44</td>\n",
       "      <td>0 days 00:01:04</td>\n",
       "      <td>2017-03-29</td>\n",
       "      <td>662</td>\n",
       "      <td>64.0</td>\n",
       "    </tr>\n",
       "    <tr>\n",
       "      <th>3</th>\n",
       "      <td>836976</td>\n",
       "      <td>73.0</td>\n",
       "      <td>60.5</td>\n",
       "      <td>U</td>\n",
       "      <td>2.0</td>\n",
       "      <td>45105.3</td>\n",
       "      <td>Test</td>\n",
       "      <td>427070339_1413275162</td>\n",
       "      <td>228976764_46825473280_96584</td>\n",
       "      <td>step_1</td>\n",
       "      <td>2017-04-02 11:21:38</td>\n",
       "      <td>0 days 00:00:10</td>\n",
       "      <td>2017-04-02</td>\n",
       "      <td>681</td>\n",
       "      <td>10.0</td>\n",
       "    </tr>\n",
       "    <tr>\n",
       "      <th>4</th>\n",
       "      <td>836976</td>\n",
       "      <td>73.0</td>\n",
       "      <td>60.5</td>\n",
       "      <td>U</td>\n",
       "      <td>2.0</td>\n",
       "      <td>45105.3</td>\n",
       "      <td>Test</td>\n",
       "      <td>427070339_1413275162</td>\n",
       "      <td>228976764_46825473280_96584</td>\n",
       "      <td>step_2</td>\n",
       "      <td>2017-04-02 11:22:24</td>\n",
       "      <td>0 days 00:00:46</td>\n",
       "      <td>2017-04-02</td>\n",
       "      <td>682</td>\n",
       "      <td>46.0</td>\n",
       "    </tr>\n",
       "  </tbody>\n",
       "</table>\n",
       "</div>"
      ],
      "text/plain": [
       "   client_id  clnt_tenure_mnth  clnt_age gendr  num_accts      bal Variation  \\\n",
       "0     836976              73.0      60.5     U        2.0  45105.3      Test   \n",
       "1     836976              73.0      60.5     U        2.0  45105.3      Test   \n",
       "2     836976              73.0      60.5     U        2.0  45105.3      Test   \n",
       "3     836976              73.0      60.5     U        2.0  45105.3      Test   \n",
       "4     836976              73.0      60.5     U        2.0  45105.3      Test   \n",
       "\n",
       "             visitor_id                     visit_id process_step  \\\n",
       "0  427070339_1413275162  104438405_2368283624_817211        start   \n",
       "1  427070339_1413275162  104438405_2368283624_817211        start   \n",
       "2  427070339_1413275162  104438405_2368283624_817211        start   \n",
       "3  427070339_1413275162  228976764_46825473280_96584       step_1   \n",
       "4  427070339_1413275162  228976764_46825473280_96584       step_2   \n",
       "\n",
       "             date_time        time_diff        date  time_in_minutes  \\\n",
       "0  2017-03-29 10:59:43  0 days 00:01:08  2017-03-29              659   \n",
       "1  2017-03-29 11:01:40  0 days 00:01:57  2017-03-29              661   \n",
       "2  2017-03-29 11:02:44  0 days 00:01:04  2017-03-29              662   \n",
       "3  2017-04-02 11:21:38  0 days 00:00:10  2017-04-02              681   \n",
       "4  2017-04-02 11:22:24  0 days 00:00:46  2017-04-02              682   \n",
       "\n",
       "   time_diff_seconds  \n",
       "0               68.0  \n",
       "1              117.0  \n",
       "2               64.0  \n",
       "3               10.0  \n",
       "4               46.0  "
      ]
     },
     "execution_count": 6,
     "metadata": {},
     "output_type": "execute_result"
    }
   ],
   "source": [
    "df.head()"
   ]
  },
  {
   "cell_type": "code",
   "execution_count": 7,
   "metadata": {},
   "outputs": [],
   "source": [
    "# Guardamos el dataframe unido\n",
    "df.to_csv('DATOS LIMPIOS/DATOS_LIMPIOS_UNIDOS.txt', index=False)"
   ]
  },
  {
   "cell_type": "markdown",
   "metadata": {},
   "source": [
    "## Tasa de finalización :\n",
    "\n",
    "La proporción de usuarios que llegan al paso final de \"confirmación\"."
   ]
  },
  {
   "cell_type": "code",
   "execution_count": 9,
   "metadata": {},
   "outputs": [
    {
     "name": "stdout",
     "output_type": "stream",
     "text": [
      "Tasa de finalización (Test): 72.56%\n",
      "Tasa de finalización (Control): 71.93%\n"
     ]
    }
   ],
   "source": [
    "# Filtrar los datos por variación\n",
    "df_test = df[df['Variation'] == 'Test']\n",
    "df_control = df[df['Variation'] == 'Control']\n",
    "\n",
    "# Calcular la tasa de finalización para cada grupo\n",
    "tasa_finalizacion_test = df_test[df_test['process_step'] == 'confirm']['client_id'].nunique() / df_test['client_id'].nunique()\n",
    "tasa_finalizacion_control = df_control[df_control['process_step'] == 'confirm']['client_id'].nunique() / df_control['client_id'].nunique()\n",
    "\n",
    "print(f\"Tasa de finalización (Test): {tasa_finalizacion_test:.2%}\")\n",
    "print(f\"Tasa de finalización (Control): {tasa_finalizacion_control:.2%}\")"
   ]
  },
  {
   "cell_type": "markdown",
   "metadata": {},
   "source": [
    "Tasa de finalización (Test): 72.56%\n",
    "Tasa de finalización (Control): 71.93%"
   ]
  },
  {
   "cell_type": "markdown",
   "metadata": {},
   "source": [
    "## Tiempo dedicado a cada paso : \n",
    "\n",
    "la duración promedio que los usuarios dedican a cada paso."
   ]
  },
  {
   "cell_type": "code",
   "execution_count": null,
   "metadata": {},
   "outputs": [],
   "source": [
    "# Para realizar la sigiente métrica, tenemos que eliminar los outliers\n"
   ]
  },
  {
   "cell_type": "code",
   "execution_count": 22,
   "metadata": {},
   "outputs": [
    {
     "name": "stdout",
     "output_type": "stream",
     "text": [
      "  process_step  duracion_promedio_test  duracion_promedio_control\n",
      "0      confirm               59.149954                  68.785423\n",
      "1        start               53.189889                  40.123554\n",
      "2       step_1               22.708585                  28.470278\n",
      "3       step_2               33.687870                  31.407896\n",
      "4       step_3               67.538846                  65.706207\n"
     ]
    }
   ],
   "source": [
    "# Eliminar outliers del dataframe\n",
    "df_filtered = df[~df.index.isin(outliers.index)]\n",
    "\n",
    "# Filtrar los datos por variación\n",
    "df_test_filtered = df_filtered[df_filtered['Variation'] == 'Test']\n",
    "df_control_filtered = df_filtered[df_filtered['Variation'] == 'Control']\n",
    "\n",
    "# Calcular la duración promedio para cada paso en el grupo de test\n",
    "duracion_promedio_test = df_test_filtered.groupby('process_step')['time_diff_seconds'].mean().reset_index()\n",
    "duracion_promedio_test.columns = ['process_step', 'duracion_promedio_test']\n",
    "\n",
    "# Calcular la duración promedio para cada paso en el grupo de control\n",
    "duracion_promedio_control = df_control_filtered.groupby('process_step')['time_diff_seconds'].mean().reset_index()\n",
    "duracion_promedio_control.columns = ['process_step', 'duracion_promedio_control']\n",
    "\n",
    "# Unir los resultados en un solo dataframe\n",
    "duracion_promedio_por_paso = pd.merge(duracion_promedio_test, duracion_promedio_control, on='process_step', how='outer')\n",
    "\n",
    "print(duracion_promedio_por_paso)"
   ]
  },
  {
   "cell_type": "code",
   "execution_count": 31,
   "metadata": {},
   "outputs": [
    {
     "name": "stdout",
     "output_type": "stream",
     "text": [
      "  process_step  duracion_promedio_test  duracion_promedio_control mas_rapido\n",
      "0      confirm               59.149954                  68.785423       Test\n",
      "1        start               53.189889                  40.123554    Control\n",
      "2       step_1               22.708585                  28.470278       Test\n",
      "3       step_2               33.687870                  31.407896    Control\n",
      "4       step_3               67.538846                  65.706207    Control\n"
     ]
    }
   ],
   "source": [
    "# Comparar las duraciones promedio entre el grupo de control y el grupo de test\n",
    "duracion_promedio_por_paso['mas_rapido'] = np.where(\n",
    "    duracion_promedio_por_paso['duracion_promedio_test'] < duracion_promedio_por_paso['duracion_promedio_control'],\n",
    "    'Test',\n",
    "    'Control'\n",
    ")\n",
    "\n",
    "print(duracion_promedio_por_paso)"
   ]
  },
  {
   "cell_type": "code",
   "execution_count": null,
   "metadata": {},
   "outputs": [],
   "source": []
  },
  {
   "cell_type": "markdown",
   "metadata": {},
   "source": [
    "process_step  duracion_promedio_test  duracion_promedio_control\n",
    "0      confirm               59.149954                  68.785423\n",
    "1        start               53.189889                  40.123554\n",
    "2       step_1               22.708585                  28.470278\n",
    "3       step_2               33.687870                  31.407896\n",
    "4       step_3               67.538846                  65.706207"
   ]
  },
  {
   "cell_type": "markdown",
   "metadata": {},
   "source": [
    "## Tasas de error :\n",
    "\n",
    "Si hay un paso en el que los usuarios vuelven a un paso anterior, puede indicar confusión o un error. Debe considerar que pasar de un paso posterior a uno anterior es un error."
   ]
  },
  {
   "cell_type": "code",
   "execution_count": 29,
   "metadata": {},
   "outputs": [
    {
     "name": "stdout",
     "output_type": "stream",
     "text": [
      "Tasa de error (Test): 13.50%\n",
      "Tasa de error (Control): 11.05%\n"
     ]
    }
   ],
   "source": [
    "# Convertir la columna process_step a numérico categórico\n",
    "step_mapping = {'start': 0, 'step_1': 1, 'step_2': 2, 'step_3': 3, 'confirm': 4}\n",
    "df['process_step_num'] = df['process_step'].map(step_mapping)\n",
    "\n",
    "# Calcular la tasa de error considerando los pasos hacia atrás como errores\n",
    "df['previous_step_num'] = df.groupby('client_id')['process_step_num'].shift(1)\n",
    "df['error'] = df['process_step_num'] < df['previous_step_num']\n",
    "\n",
    "# Filtrar los datos por variación\n",
    "df_test = df[df['Variation'] == 'Test']\n",
    "df_control = df[df['Variation'] == 'Control']\n",
    "\n",
    "# Calcular la tasa de error para cada grupo\n",
    "tasa_error_test = df_test['error'].mean()\n",
    "tasa_error_control = df_control['error'].mean()\n",
    "\n",
    "print(f\"Tasa de error (Test): {tasa_error_test:.2%}\")\n",
    "print(f\"Tasa de error (Control): {tasa_error_control:.2%}\")"
   ]
  },
  {
   "cell_type": "markdown",
   "metadata": {},
   "source": [
    "Tasa de error (Test): 13.50%\n",
    "\n",
    "Tasa de error (Control): 11.05%"
   ]
  },
  {
   "cell_type": "markdown",
   "metadata": {},
   "source": [
    "## Resultado del rediseño\n",
    "\n",
    "En función de los KPI elegidos, ¿cómo se compara el rendimiento del nuevo diseño con el anterior?"
   ]
  },
  {
   "cell_type": "markdown",
   "metadata": {},
   "source": [
    "La tasa de finalización en el grupo de prueba (Test) es ligeramente superior a la del grupo de control. Esto indica que el nuevo diseño (Test) está logrando que un mayor porcentaje de usuarios complete la acción deseada en comparación con el diseño anterior (Control).\n",
    "\n",
    "A pesar de que el grupo de prueba tiene una mayor tasa de finalización, el grupo de control es más rápido en completar cada paso del proceso. Esto sugiere que el nuevo diseño puede tener elementos que ralentizan a los usuarios o que requieren más tiempo para ser comprendidos.\n",
    "\n",
    "La tasa de error es mayor en el grupo de prueba, lo que indica que los usuarios del nuevo diseño cometen más errores en comparación con los usuarios del diseño anterior. Esto podría estar relacionado con una interfaz menos intuitiva o con instrucciones que no son tan claras en el nuevo diseño.\n",
    "\n",
    "\n",
    "\n"
   ]
  }
 ],
 "metadata": {
  "kernelspec": {
   "display_name": "Python 3",
   "language": "python",
   "name": "python3"
  },
  "language_info": {
   "codemirror_mode": {
    "name": "ipython",
    "version": 3
   },
   "file_extension": ".py",
   "mimetype": "text/x-python",
   "name": "python",
   "nbconvert_exporter": "python",
   "pygments_lexer": "ipython3",
   "version": "3.11.9"
  }
 },
 "nbformat": 4,
 "nbformat_minor": 2
}
